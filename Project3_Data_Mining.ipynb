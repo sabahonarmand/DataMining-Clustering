{
  "cells": [
    {
      "cell_type": "markdown",
      "metadata": {
        "id": "view-in-github",
        "colab_type": "text"
      },
      "source": [
        "<a href=\"https://colab.research.google.com/github/sabahonarmand/DataMining-Clustering/blob/main/Project3_Data_Mining.ipynb\" target=\"_parent\"><img src=\"https://colab.research.google.com/assets/colab-badge.svg\" alt=\"Open In Colab\"/></a>"
      ]
    },
    {
      "cell_type": "markdown",
      "source": [
        "# **Project3 - Data Mining**"
      ],
      "metadata": {
        "id": "pALb3jv7cHte"
      }
    },
    {
      "cell_type": "code",
      "execution_count": null,
      "metadata": {
        "colab": {
          "base_uri": "https://localhost:8080/",
          "height": 423
        },
        "id": "VmVLhBuWDLlu",
        "outputId": "bf5b45e8-e930-43df-ff5a-070cc81ecb0e"
      },
      "outputs": [
        {
          "output_type": "execute_result",
          "data": {
            "text/html": [
              "\n",
              "  <div id=\"df-abca8d65-88f2-47dc-a265-5e56c082f35c\">\n",
              "    <div class=\"colab-df-container\">\n",
              "      <div>\n",
              "<style scoped>\n",
              "    .dataframe tbody tr th:only-of-type {\n",
              "        vertical-align: middle;\n",
              "    }\n",
              "\n",
              "    .dataframe tbody tr th {\n",
              "        vertical-align: top;\n",
              "    }\n",
              "\n",
              "    .dataframe thead th {\n",
              "        text-align: right;\n",
              "    }\n",
              "</style>\n",
              "<table border=\"1\" class=\"dataframe\">\n",
              "  <thead>\n",
              "    <tr style=\"text-align: right;\">\n",
              "      <th></th>\n",
              "      <th>Power(watts)</th>\n",
              "      <th>Distance(metres)</th>\n",
              "      <th>Heartrate(BPM)</th>\n",
              "      <th>Speed(m/s)</th>\n",
              "      <th>WindSpeed (m/s)</th>\n",
              "      <th>Cadaence(revs/s)</th>\n",
              "      <th>Elevation(meters)</th>\n",
              "      <th>Hill slope(%)</th>\n",
              "      <th>Temperature(C)</th>\n",
              "    </tr>\n",
              "  </thead>\n",
              "  <tbody>\n",
              "    <tr>\n",
              "      <th>0</th>\n",
              "      <td>0.0</td>\n",
              "      <td>0.000</td>\n",
              "      <td>57.0</td>\n",
              "      <td>1.43050</td>\n",
              "      <td>1.6093</td>\n",
              "      <td>0.0</td>\n",
              "      <td>55.778</td>\n",
              "      <td>-2.85</td>\n",
              "      <td>25.556</td>\n",
              "    </tr>\n",
              "    <tr>\n",
              "      <th>1</th>\n",
              "      <td>0.0</td>\n",
              "      <td>0.000</td>\n",
              "      <td>57.0</td>\n",
              "      <td>1.65400</td>\n",
              "      <td>2.9505</td>\n",
              "      <td>0.0</td>\n",
              "      <td>55.778</td>\n",
              "      <td>-4.40</td>\n",
              "      <td>25.556</td>\n",
              "    </tr>\n",
              "    <tr>\n",
              "      <th>2</th>\n",
              "      <td>0.0</td>\n",
              "      <td>0.000</td>\n",
              "      <td>57.0</td>\n",
              "      <td>2.50340</td>\n",
              "      <td>3.1740</td>\n",
              "      <td>0.0</td>\n",
              "      <td>55.778</td>\n",
              "      <td>-5.85</td>\n",
              "      <td>25.556</td>\n",
              "    </tr>\n",
              "    <tr>\n",
              "      <th>3</th>\n",
              "      <td>0.0</td>\n",
              "      <td>16.093</td>\n",
              "      <td>61.0</td>\n",
              "      <td>2.50340</td>\n",
              "      <td>3.8445</td>\n",
              "      <td>0.0</td>\n",
              "      <td>55.778</td>\n",
              "      <td>-6.30</td>\n",
              "      <td>25.556</td>\n",
              "    </tr>\n",
              "    <tr>\n",
              "      <th>4</th>\n",
              "      <td>0.0</td>\n",
              "      <td>16.093</td>\n",
              "      <td>62.0</td>\n",
              "      <td>2.54810</td>\n",
              "      <td>3.2187</td>\n",
              "      <td>0.0</td>\n",
              "      <td>55.778</td>\n",
              "      <td>-5.62</td>\n",
              "      <td>25.556</td>\n",
              "    </tr>\n",
              "    <tr>\n",
              "      <th>...</th>\n",
              "      <td>...</td>\n",
              "      <td>...</td>\n",
              "      <td>...</td>\n",
              "      <td>...</td>\n",
              "      <td>...</td>\n",
              "      <td>...</td>\n",
              "      <td>...</td>\n",
              "      <td>...</td>\n",
              "      <td>...</td>\n",
              "    </tr>\n",
              "    <tr>\n",
              "      <th>4430</th>\n",
              "      <td>0.0</td>\n",
              "      <td>30610.000</td>\n",
              "      <td>100.0</td>\n",
              "      <td>3.03990</td>\n",
              "      <td>1.8329</td>\n",
              "      <td>0.0</td>\n",
              "      <td>54.559</td>\n",
              "      <td>-1.20</td>\n",
              "      <td>22.778</td>\n",
              "    </tr>\n",
              "    <tr>\n",
              "      <th>4431</th>\n",
              "      <td>0.0</td>\n",
              "      <td>30626.000</td>\n",
              "      <td>100.0</td>\n",
              "      <td>2.59280</td>\n",
              "      <td>0.0000</td>\n",
              "      <td>0.0</td>\n",
              "      <td>54.559</td>\n",
              "      <td>-1.77</td>\n",
              "      <td>22.778</td>\n",
              "    </tr>\n",
              "    <tr>\n",
              "      <th>4432</th>\n",
              "      <td>0.0</td>\n",
              "      <td>30626.000</td>\n",
              "      <td>100.0</td>\n",
              "      <td>1.69870</td>\n",
              "      <td>0.0000</td>\n",
              "      <td>0.0</td>\n",
              "      <td>54.559</td>\n",
              "      <td>-1.29</td>\n",
              "      <td>22.778</td>\n",
              "    </tr>\n",
              "    <tr>\n",
              "      <th>4433</th>\n",
              "      <td>0.0</td>\n",
              "      <td>30626.000</td>\n",
              "      <td>99.0</td>\n",
              "      <td>0.98349</td>\n",
              "      <td>0.0000</td>\n",
              "      <td>0.0</td>\n",
              "      <td>54.559</td>\n",
              "      <td>0.09</td>\n",
              "      <td>22.778</td>\n",
              "    </tr>\n",
              "    <tr>\n",
              "      <th>4434</th>\n",
              "      <td>0.0</td>\n",
              "      <td>30626.000</td>\n",
              "      <td>99.0</td>\n",
              "      <td>0.00000</td>\n",
              "      <td>0.0000</td>\n",
              "      <td>0.0</td>\n",
              "      <td>54.559</td>\n",
              "      <td>2.19</td>\n",
              "      <td>22.778</td>\n",
              "    </tr>\n",
              "  </tbody>\n",
              "</table>\n",
              "<p>4435 rows × 9 columns</p>\n",
              "</div>\n",
              "      <button class=\"colab-df-convert\" onclick=\"convertToInteractive('df-abca8d65-88f2-47dc-a265-5e56c082f35c')\"\n",
              "              title=\"Convert this dataframe to an interactive table.\"\n",
              "              style=\"display:none;\">\n",
              "        \n",
              "  <svg xmlns=\"http://www.w3.org/2000/svg\" height=\"24px\"viewBox=\"0 0 24 24\"\n",
              "       width=\"24px\">\n",
              "    <path d=\"M0 0h24v24H0V0z\" fill=\"none\"/>\n",
              "    <path d=\"M18.56 5.44l.94 2.06.94-2.06 2.06-.94-2.06-.94-.94-2.06-.94 2.06-2.06.94zm-11 1L8.5 8.5l.94-2.06 2.06-.94-2.06-.94L8.5 2.5l-.94 2.06-2.06.94zm10 10l.94 2.06.94-2.06 2.06-.94-2.06-.94-.94-2.06-.94 2.06-2.06.94z\"/><path d=\"M17.41 7.96l-1.37-1.37c-.4-.4-.92-.59-1.43-.59-.52 0-1.04.2-1.43.59L10.3 9.45l-7.72 7.72c-.78.78-.78 2.05 0 2.83L4 21.41c.39.39.9.59 1.41.59.51 0 1.02-.2 1.41-.59l7.78-7.78 2.81-2.81c.8-.78.8-2.07 0-2.86zM5.41 20L4 18.59l7.72-7.72 1.47 1.35L5.41 20z\"/>\n",
              "  </svg>\n",
              "      </button>\n",
              "      \n",
              "  <style>\n",
              "    .colab-df-container {\n",
              "      display:flex;\n",
              "      flex-wrap:wrap;\n",
              "      gap: 12px;\n",
              "    }\n",
              "\n",
              "    .colab-df-convert {\n",
              "      background-color: #E8F0FE;\n",
              "      border: none;\n",
              "      border-radius: 50%;\n",
              "      cursor: pointer;\n",
              "      display: none;\n",
              "      fill: #1967D2;\n",
              "      height: 32px;\n",
              "      padding: 0 0 0 0;\n",
              "      width: 32px;\n",
              "    }\n",
              "\n",
              "    .colab-df-convert:hover {\n",
              "      background-color: #E2EBFA;\n",
              "      box-shadow: 0px 1px 2px rgba(60, 64, 67, 0.3), 0px 1px 3px 1px rgba(60, 64, 67, 0.15);\n",
              "      fill: #174EA6;\n",
              "    }\n",
              "\n",
              "    [theme=dark] .colab-df-convert {\n",
              "      background-color: #3B4455;\n",
              "      fill: #D2E3FC;\n",
              "    }\n",
              "\n",
              "    [theme=dark] .colab-df-convert:hover {\n",
              "      background-color: #434B5C;\n",
              "      box-shadow: 0px 1px 3px 1px rgba(0, 0, 0, 0.15);\n",
              "      filter: drop-shadow(0px 1px 2px rgba(0, 0, 0, 0.3));\n",
              "      fill: #FFFFFF;\n",
              "    }\n",
              "  </style>\n",
              "\n",
              "      <script>\n",
              "        const buttonEl =\n",
              "          document.querySelector('#df-abca8d65-88f2-47dc-a265-5e56c082f35c button.colab-df-convert');\n",
              "        buttonEl.style.display =\n",
              "          google.colab.kernel.accessAllowed ? 'block' : 'none';\n",
              "\n",
              "        async function convertToInteractive(key) {\n",
              "          const element = document.querySelector('#df-abca8d65-88f2-47dc-a265-5e56c082f35c');\n",
              "          const dataTable =\n",
              "            await google.colab.kernel.invokeFunction('convertToInteractive',\n",
              "                                                     [key], {});\n",
              "          if (!dataTable) return;\n",
              "\n",
              "          const docLinkHtml = 'Like what you see? Visit the ' +\n",
              "            '<a target=\"_blank\" href=https://colab.research.google.com/notebooks/data_table.ipynb>data table notebook</a>'\n",
              "            + ' to learn more about interactive tables.';\n",
              "          element.innerHTML = '';\n",
              "          dataTable['output_type'] = 'display_data';\n",
              "          await google.colab.output.renderOutput(dataTable, element);\n",
              "          const docLink = document.createElement('div');\n",
              "          docLink.innerHTML = docLinkHtml;\n",
              "          element.appendChild(docLink);\n",
              "        }\n",
              "      </script>\n",
              "    </div>\n",
              "  </div>\n",
              "  "
            ],
            "text/plain": [
              "      Power(watts)  Distance(metres)  ...  Hill slope(%)  Temperature(C)\n",
              "0              0.0             0.000  ...          -2.85          25.556\n",
              "1              0.0             0.000  ...          -4.40          25.556\n",
              "2              0.0             0.000  ...          -5.85          25.556\n",
              "3              0.0            16.093  ...          -6.30          25.556\n",
              "4              0.0            16.093  ...          -5.62          25.556\n",
              "...            ...               ...  ...            ...             ...\n",
              "4430           0.0         30610.000  ...          -1.20          22.778\n",
              "4431           0.0         30626.000  ...          -1.77          22.778\n",
              "4432           0.0         30626.000  ...          -1.29          22.778\n",
              "4433           0.0         30626.000  ...           0.09          22.778\n",
              "4434           0.0         30626.000  ...           2.19          22.778\n",
              "\n",
              "[4435 rows x 9 columns]"
            ]
          },
          "metadata": {},
          "execution_count": 44
        }
      ],
      "source": [
        "import pandas as pd\n",
        "import matplotlib.pyplot as plt\n",
        "from mpl_toolkits import mplot3d\n",
        "import numpy as np\n",
        "dataframe2 =pd.read_csv(\"dataset.csv\")\n",
        "dataframe = dataframe2.drop(['Cluster'], axis=1)\n",
        "dataframe"
      ]
    },
    {
      "cell_type": "markdown",
      "source": [
        "**Preprocessing**"
      ],
      "metadata": {
        "id": "BqqAUF2ucU_m"
      }
    },
    {
      "cell_type": "code",
      "source": [
        "#detect missing values\n",
        "missing_data = dataframe.isna()\n",
        "missing_data_count = missing_data.loc[:,:].sum()\n",
        "missing_data_count\n"
      ],
      "metadata": {
        "id": "cZmPxBJqcor0",
        "colab": {
          "base_uri": "https://localhost:8080/"
        },
        "outputId": "6ee4eb14-9d07-4288-c2c2-ad140fa54581"
      },
      "execution_count": null,
      "outputs": [
        {
          "output_type": "execute_result",
          "data": {
            "text/plain": [
              "Power(watts)          2\n",
              "Distance(metres)      3\n",
              "Heartrate(BPM)        5\n",
              "Speed(m/s)            5\n",
              "WindSpeed (m/s)      18\n",
              "Cadaence(revs/s)      4\n",
              "Elevation(meters)     1\n",
              "Hill slope(%)         2\n",
              "Temperature(C)        2\n",
              "dtype: int64"
            ]
          },
          "metadata": {},
          "execution_count": 45
        }
      ]
    },
    {
      "cell_type": "code",
      "source": [
        "#fill missing data with mean\n",
        "Power = dataframe['Power(watts)'].mean() \n",
        "dataframe['Power(watts)'].fillna(Power, inplace = True)\n",
        "Distance = dataframe['Distance(metres)'].mean() \n",
        "dataframe['Distance(metres)'].fillna(Distance, inplace = True)\n",
        "Heartrate = dataframe['Heartrate(BPM)'].mean() \n",
        "dataframe['Heartrate(BPM)'].fillna(Heartrate, inplace = True)\n",
        "Speed = dataframe['Speed(m/s)'].mean() \n",
        "dataframe['Speed(m/s)'].fillna(Speed, inplace = True) \n",
        "WindSpeed = dataframe['WindSpeed (m/s)'].mean() \n",
        "dataframe['WindSpeed (m/s)'].fillna(WindSpeed, inplace = True)\n",
        "Cadaence = dataframe['Cadaence(revs/s)'].mean() \n",
        "dataframe['Cadaence(revs/s)'].fillna(Cadaence, inplace = True) \n",
        "Elevation = dataframe['Elevation(meters)'].mean() \n",
        "dataframe['Elevation(meters)'].fillna(Elevation, inplace = True)\n",
        "Hill_slope = dataframe['Hill slope(%)'].mean() \n",
        "dataframe['Hill slope(%)'].fillna(Hill_slope, inplace = True) \n",
        "Temperature = dataframe['Temperature(C)'].mean() \n",
        "dataframe['Temperature(C)'].fillna(Temperature, inplace = True)  \n",
        "missing_data = dataframe.isna()\n",
        "missing_data_count = missing_data.loc[:,:].sum()\n",
        "missing_data_count"
      ],
      "metadata": {
        "colab": {
          "base_uri": "https://localhost:8080/"
        },
        "id": "RTmF0XkcctjU",
        "outputId": "8b879f86-5c9b-403c-e219-c984fd30b22b"
      },
      "execution_count": null,
      "outputs": [
        {
          "output_type": "execute_result",
          "data": {
            "text/plain": [
              "Power(watts)         0\n",
              "Distance(metres)     0\n",
              "Heartrate(BPM)       0\n",
              "Speed(m/s)           0\n",
              "WindSpeed (m/s)      0\n",
              "Cadaence(revs/s)     0\n",
              "Elevation(meters)    0\n",
              "Hill slope(%)        0\n",
              "Temperature(C)       0\n",
              "dtype: int64"
            ]
          },
          "metadata": {},
          "execution_count": 46
        }
      ]
    },
    {
      "cell_type": "code",
      "execution_count": null,
      "metadata": {
        "id": "58bLFvBe1UIk",
        "colab": {
          "base_uri": "https://localhost:8080/",
          "height": 423
        },
        "outputId": "c7b89b75-9af9-42cb-b0f8-1005dcebe4fb"
      },
      "outputs": [
        {
          "output_type": "execute_result",
          "data": {
            "text/html": [
              "\n",
              "  <div id=\"df-8e60203f-668f-4e0b-90ac-f7774cd044f7\">\n",
              "    <div class=\"colab-df-container\">\n",
              "      <div>\n",
              "<style scoped>\n",
              "    .dataframe tbody tr th:only-of-type {\n",
              "        vertical-align: middle;\n",
              "    }\n",
              "\n",
              "    .dataframe tbody tr th {\n",
              "        vertical-align: top;\n",
              "    }\n",
              "\n",
              "    .dataframe thead th {\n",
              "        text-align: right;\n",
              "    }\n",
              "</style>\n",
              "<table border=\"1\" class=\"dataframe\">\n",
              "  <thead>\n",
              "    <tr style=\"text-align: right;\">\n",
              "      <th></th>\n",
              "      <th>Power(watts)</th>\n",
              "      <th>Distance(metres)</th>\n",
              "      <th>Heartrate(BPM)</th>\n",
              "      <th>Speed(m/s)</th>\n",
              "      <th>WindSpeed (m/s)</th>\n",
              "      <th>Cadaence(revs/s)</th>\n",
              "      <th>Elevation(meters)</th>\n",
              "      <th>Hill slope(%)</th>\n",
              "      <th>Temperature(C)</th>\n",
              "    </tr>\n",
              "  </thead>\n",
              "  <tbody>\n",
              "    <tr>\n",
              "      <th>6</th>\n",
              "      <td>0.00</td>\n",
              "      <td>16.093</td>\n",
              "      <td>65.0</td>\n",
              "      <td>2.6822</td>\n",
              "      <td>4.4704</td>\n",
              "      <td>0.26667</td>\n",
              "      <td>55.778</td>\n",
              "      <td>-3.45</td>\n",
              "      <td>25.556</td>\n",
              "    </tr>\n",
              "    <tr>\n",
              "      <th>7</th>\n",
              "      <td>19.51</td>\n",
              "      <td>16.093</td>\n",
              "      <td>68.0</td>\n",
              "      <td>2.8163</td>\n",
              "      <td>4.1128</td>\n",
              "      <td>0.51667</td>\n",
              "      <td>55.169</td>\n",
              "      <td>-2.14</td>\n",
              "      <td>25.556</td>\n",
              "    </tr>\n",
              "    <tr>\n",
              "      <th>8</th>\n",
              "      <td>48.47</td>\n",
              "      <td>16.093</td>\n",
              "      <td>69.0</td>\n",
              "      <td>3.1293</td>\n",
              "      <td>3.8445</td>\n",
              "      <td>0.60000</td>\n",
              "      <td>55.169</td>\n",
              "      <td>-1.62</td>\n",
              "      <td>25.556</td>\n",
              "    </tr>\n",
              "    <tr>\n",
              "      <th>9</th>\n",
              "      <td>70.79</td>\n",
              "      <td>32.187</td>\n",
              "      <td>71.0</td>\n",
              "      <td>3.5316</td>\n",
              "      <td>3.8445</td>\n",
              "      <td>0.66667</td>\n",
              "      <td>55.169</td>\n",
              "      <td>-0.69</td>\n",
              "      <td>25.556</td>\n",
              "    </tr>\n",
              "    <tr>\n",
              "      <th>10</th>\n",
              "      <td>91.38</td>\n",
              "      <td>32.187</td>\n",
              "      <td>75.0</td>\n",
              "      <td>3.8892</td>\n",
              "      <td>4.0233</td>\n",
              "      <td>0.75000</td>\n",
              "      <td>55.169</td>\n",
              "      <td>-0.30</td>\n",
              "      <td>25.556</td>\n",
              "    </tr>\n",
              "    <tr>\n",
              "      <th>...</th>\n",
              "      <td>...</td>\n",
              "      <td>...</td>\n",
              "      <td>...</td>\n",
              "      <td>...</td>\n",
              "      <td>...</td>\n",
              "      <td>...</td>\n",
              "      <td>...</td>\n",
              "      <td>...</td>\n",
              "      <td>...</td>\n",
              "    </tr>\n",
              "    <tr>\n",
              "      <th>4420</th>\n",
              "      <td>202.56</td>\n",
              "      <td>30577.000</td>\n",
              "      <td>99.0</td>\n",
              "      <td>5.2304</td>\n",
              "      <td>6.4821</td>\n",
              "      <td>1.08330</td>\n",
              "      <td>54.254</td>\n",
              "      <td>2.61</td>\n",
              "      <td>22.778</td>\n",
              "    </tr>\n",
              "    <tr>\n",
              "      <th>4421</th>\n",
              "      <td>188.89</td>\n",
              "      <td>30577.000</td>\n",
              "      <td>100.0</td>\n",
              "      <td>5.2304</td>\n",
              "      <td>4.3810</td>\n",
              "      <td>1.08330</td>\n",
              "      <td>54.254</td>\n",
              "      <td>2.14</td>\n",
              "      <td>22.778</td>\n",
              "    </tr>\n",
              "    <tr>\n",
              "      <th>4422</th>\n",
              "      <td>160.36</td>\n",
              "      <td>30577.000</td>\n",
              "      <td>100.0</td>\n",
              "      <td>5.2304</td>\n",
              "      <td>4.0233</td>\n",
              "      <td>1.08330</td>\n",
              "      <td>54.254</td>\n",
              "      <td>1.79</td>\n",
              "      <td>22.778</td>\n",
              "    </tr>\n",
              "    <tr>\n",
              "      <th>4423</th>\n",
              "      <td>104.14</td>\n",
              "      <td>30594.000</td>\n",
              "      <td>100.0</td>\n",
              "      <td>5.0962</td>\n",
              "      <td>4.7386</td>\n",
              "      <td>0.98333</td>\n",
              "      <td>54.559</td>\n",
              "      <td>1.68</td>\n",
              "      <td>22.778</td>\n",
              "    </tr>\n",
              "    <tr>\n",
              "      <th>4424</th>\n",
              "      <td>67.20</td>\n",
              "      <td>30594.000</td>\n",
              "      <td>101.0</td>\n",
              "      <td>4.8727</td>\n",
              "      <td>3.3081</td>\n",
              "      <td>0.81667</td>\n",
              "      <td>54.559</td>\n",
              "      <td>1.46</td>\n",
              "      <td>22.778</td>\n",
              "    </tr>\n",
              "  </tbody>\n",
              "</table>\n",
              "<p>3850 rows × 9 columns</p>\n",
              "</div>\n",
              "      <button class=\"colab-df-convert\" onclick=\"convertToInteractive('df-8e60203f-668f-4e0b-90ac-f7774cd044f7')\"\n",
              "              title=\"Convert this dataframe to an interactive table.\"\n",
              "              style=\"display:none;\">\n",
              "        \n",
              "  <svg xmlns=\"http://www.w3.org/2000/svg\" height=\"24px\"viewBox=\"0 0 24 24\"\n",
              "       width=\"24px\">\n",
              "    <path d=\"M0 0h24v24H0V0z\" fill=\"none\"/>\n",
              "    <path d=\"M18.56 5.44l.94 2.06.94-2.06 2.06-.94-2.06-.94-.94-2.06-.94 2.06-2.06.94zm-11 1L8.5 8.5l.94-2.06 2.06-.94-2.06-.94L8.5 2.5l-.94 2.06-2.06.94zm10 10l.94 2.06.94-2.06 2.06-.94-2.06-.94-.94-2.06-.94 2.06-2.06.94z\"/><path d=\"M17.41 7.96l-1.37-1.37c-.4-.4-.92-.59-1.43-.59-.52 0-1.04.2-1.43.59L10.3 9.45l-7.72 7.72c-.78.78-.78 2.05 0 2.83L4 21.41c.39.39.9.59 1.41.59.51 0 1.02-.2 1.41-.59l7.78-7.78 2.81-2.81c.8-.78.8-2.07 0-2.86zM5.41 20L4 18.59l7.72-7.72 1.47 1.35L5.41 20z\"/>\n",
              "  </svg>\n",
              "      </button>\n",
              "      \n",
              "  <style>\n",
              "    .colab-df-container {\n",
              "      display:flex;\n",
              "      flex-wrap:wrap;\n",
              "      gap: 12px;\n",
              "    }\n",
              "\n",
              "    .colab-df-convert {\n",
              "      background-color: #E8F0FE;\n",
              "      border: none;\n",
              "      border-radius: 50%;\n",
              "      cursor: pointer;\n",
              "      display: none;\n",
              "      fill: #1967D2;\n",
              "      height: 32px;\n",
              "      padding: 0 0 0 0;\n",
              "      width: 32px;\n",
              "    }\n",
              "\n",
              "    .colab-df-convert:hover {\n",
              "      background-color: #E2EBFA;\n",
              "      box-shadow: 0px 1px 2px rgba(60, 64, 67, 0.3), 0px 1px 3px 1px rgba(60, 64, 67, 0.15);\n",
              "      fill: #174EA6;\n",
              "    }\n",
              "\n",
              "    [theme=dark] .colab-df-convert {\n",
              "      background-color: #3B4455;\n",
              "      fill: #D2E3FC;\n",
              "    }\n",
              "\n",
              "    [theme=dark] .colab-df-convert:hover {\n",
              "      background-color: #434B5C;\n",
              "      box-shadow: 0px 1px 3px 1px rgba(0, 0, 0, 0.15);\n",
              "      filter: drop-shadow(0px 1px 2px rgba(0, 0, 0, 0.3));\n",
              "      fill: #FFFFFF;\n",
              "    }\n",
              "  </style>\n",
              "\n",
              "      <script>\n",
              "        const buttonEl =\n",
              "          document.querySelector('#df-8e60203f-668f-4e0b-90ac-f7774cd044f7 button.colab-df-convert');\n",
              "        buttonEl.style.display =\n",
              "          google.colab.kernel.accessAllowed ? 'block' : 'none';\n",
              "\n",
              "        async function convertToInteractive(key) {\n",
              "          const element = document.querySelector('#df-8e60203f-668f-4e0b-90ac-f7774cd044f7');\n",
              "          const dataTable =\n",
              "            await google.colab.kernel.invokeFunction('convertToInteractive',\n",
              "                                                     [key], {});\n",
              "          if (!dataTable) return;\n",
              "\n",
              "          const docLinkHtml = 'Like what you see? Visit the ' +\n",
              "            '<a target=\"_blank\" href=https://colab.research.google.com/notebooks/data_table.ipynb>data table notebook</a>'\n",
              "            + ' to learn more about interactive tables.';\n",
              "          element.innerHTML = '';\n",
              "          dataTable['output_type'] = 'display_data';\n",
              "          await google.colab.output.renderOutput(dataTable, element);\n",
              "          const docLink = document.createElement('div');\n",
              "          docLink.innerHTML = docLinkHtml;\n",
              "          element.appendChild(docLink);\n",
              "        }\n",
              "      </script>\n",
              "    </div>\n",
              "  </div>\n",
              "  "
            ],
            "text/plain": [
              "      Power(watts)  Distance(metres)  ...  Hill slope(%)  Temperature(C)\n",
              "6             0.00            16.093  ...          -3.45          25.556\n",
              "7            19.51            16.093  ...          -2.14          25.556\n",
              "8            48.47            16.093  ...          -1.62          25.556\n",
              "9            70.79            32.187  ...          -0.69          25.556\n",
              "10           91.38            32.187  ...          -0.30          25.556\n",
              "...            ...               ...  ...            ...             ...\n",
              "4420        202.56         30577.000  ...           2.61          22.778\n",
              "4421        188.89         30577.000  ...           2.14          22.778\n",
              "4422        160.36         30577.000  ...           1.79          22.778\n",
              "4423        104.14         30594.000  ...           1.68          22.778\n",
              "4424         67.20         30594.000  ...           1.46          22.778\n",
              "\n",
              "[3850 rows x 9 columns]"
            ]
          },
          "metadata": {},
          "execution_count": 47
        }
      ],
      "source": [
        "from sklearn.preprocessing import StandardScaler\n",
        "\n",
        "#Detect outliers data\n",
        "Q1 = dataframe.quantile(0.25)\n",
        "Q3 = dataframe.quantile(0.75)\n",
        "IQR = Q3 - Q1\n",
        "# Removing outliers \n",
        "dataframe = dataframe[~((dataframe < (Q1 - 1.5 * IQR)) |(dataframe > (Q3 + 1.5 * IQR))).any(axis=1)]\n",
        "dataframe"
      ]
    },
    {
      "cell_type": "markdown",
      "source": [
        "**Question2**"
      ],
      "metadata": {
        "id": "LHW3rxPI9xz3"
      }
    },
    {
      "cell_type": "code",
      "source": [
        "#dataframe get numeric columns\n",
        "newdf = dataframe.select_dtypes(include=np.number)\n",
        "# newdf\n",
        "newdf.describe()"
      ],
      "metadata": {
        "colab": {
          "base_uri": "https://localhost:8080/",
          "height": 300
        },
        "id": "fKf7EL147n4O",
        "outputId": "86b958a2-9437-4ce9-f1ef-eeb29b07035e"
      },
      "execution_count": null,
      "outputs": [
        {
          "output_type": "execute_result",
          "data": {
            "text/html": [
              "\n",
              "  <div id=\"df-0be9e43f-c0b4-45e8-9c88-cfce86e5e8c0\">\n",
              "    <div class=\"colab-df-container\">\n",
              "      <div>\n",
              "<style scoped>\n",
              "    .dataframe tbody tr th:only-of-type {\n",
              "        vertical-align: middle;\n",
              "    }\n",
              "\n",
              "    .dataframe tbody tr th {\n",
              "        vertical-align: top;\n",
              "    }\n",
              "\n",
              "    .dataframe thead th {\n",
              "        text-align: right;\n",
              "    }\n",
              "</style>\n",
              "<table border=\"1\" class=\"dataframe\">\n",
              "  <thead>\n",
              "    <tr style=\"text-align: right;\">\n",
              "      <th></th>\n",
              "      <th>Power(watts)</th>\n",
              "      <th>Distance(metres)</th>\n",
              "      <th>Heartrate(BPM)</th>\n",
              "      <th>Speed(m/s)</th>\n",
              "      <th>WindSpeed (m/s)</th>\n",
              "      <th>Cadaence(revs/s)</th>\n",
              "      <th>Elevation(meters)</th>\n",
              "      <th>Hill slope(%)</th>\n",
              "      <th>Temperature(C)</th>\n",
              "    </tr>\n",
              "  </thead>\n",
              "  <tbody>\n",
              "    <tr>\n",
              "      <th>count</th>\n",
              "      <td>3850.000000</td>\n",
              "      <td>3850.000000</td>\n",
              "      <td>3850.000000</td>\n",
              "      <td>3850.000000</td>\n",
              "      <td>3850.000000</td>\n",
              "      <td>3850.000000</td>\n",
              "      <td>3850.000000</td>\n",
              "      <td>3850.000000</td>\n",
              "      <td>3850.000000</td>\n",
              "    </tr>\n",
              "    <tr>\n",
              "      <th>mean</th>\n",
              "      <td>234.054366</td>\n",
              "      <td>12492.383074</td>\n",
              "      <td>144.179740</td>\n",
              "      <td>6.469248</td>\n",
              "      <td>5.719182</td>\n",
              "      <td>1.194342</td>\n",
              "      <td>298.739210</td>\n",
              "      <td>4.422299</td>\n",
              "      <td>22.516403</td>\n",
              "    </tr>\n",
              "    <tr>\n",
              "      <th>std</th>\n",
              "      <td>91.952173</td>\n",
              "      <td>8154.495273</td>\n",
              "      <td>22.772609</td>\n",
              "      <td>3.510520</td>\n",
              "      <td>4.401652</td>\n",
              "      <td>0.256725</td>\n",
              "      <td>202.229527</td>\n",
              "      <td>6.574578</td>\n",
              "      <td>2.132864</td>\n",
              "    </tr>\n",
              "    <tr>\n",
              "      <th>min</th>\n",
              "      <td>0.000000</td>\n",
              "      <td>16.093000</td>\n",
              "      <td>65.000000</td>\n",
              "      <td>2.458700</td>\n",
              "      <td>0.000000</td>\n",
              "      <td>0.183330</td>\n",
              "      <td>48.158000</td>\n",
              "      <td>-12.740000</td>\n",
              "      <td>18.889000</td>\n",
              "    </tr>\n",
              "    <tr>\n",
              "      <th>25%</th>\n",
              "      <td>168.800000</td>\n",
              "      <td>6827.625000</td>\n",
              "      <td>126.000000</td>\n",
              "      <td>3.263400</td>\n",
              "      <td>2.190500</td>\n",
              "      <td>0.983330</td>\n",
              "      <td>79.553000</td>\n",
              "      <td>-0.830000</td>\n",
              "      <td>21.111000</td>\n",
              "    </tr>\n",
              "    <tr>\n",
              "      <th>50%</th>\n",
              "      <td>242.805000</td>\n",
              "      <td>10171.000000</td>\n",
              "      <td>147.000000</td>\n",
              "      <td>5.409200</td>\n",
              "      <td>4.872700</td>\n",
              "      <td>1.200000</td>\n",
              "      <td>288.340000</td>\n",
              "      <td>3.710000</td>\n",
              "      <td>22.778000</td>\n",
              "    </tr>\n",
              "    <tr>\n",
              "      <th>75%</th>\n",
              "      <td>294.712500</td>\n",
              "      <td>17860.000000</td>\n",
              "      <td>166.000000</td>\n",
              "      <td>9.119600</td>\n",
              "      <td>8.493700</td>\n",
              "      <td>1.400000</td>\n",
              "      <td>510.240000</td>\n",
              "      <td>10.250000</td>\n",
              "      <td>24.444000</td>\n",
              "    </tr>\n",
              "    <tr>\n",
              "      <th>max</th>\n",
              "      <td>525.270000</td>\n",
              "      <td>30594.000000</td>\n",
              "      <td>174.000000</td>\n",
              "      <td>15.289000</td>\n",
              "      <td>18.507000</td>\n",
              "      <td>2.050000</td>\n",
              "      <td>628.500000</td>\n",
              "      <td>19.030000</td>\n",
              "      <td>26.111000</td>\n",
              "    </tr>\n",
              "  </tbody>\n",
              "</table>\n",
              "</div>\n",
              "      <button class=\"colab-df-convert\" onclick=\"convertToInteractive('df-0be9e43f-c0b4-45e8-9c88-cfce86e5e8c0')\"\n",
              "              title=\"Convert this dataframe to an interactive table.\"\n",
              "              style=\"display:none;\">\n",
              "        \n",
              "  <svg xmlns=\"http://www.w3.org/2000/svg\" height=\"24px\"viewBox=\"0 0 24 24\"\n",
              "       width=\"24px\">\n",
              "    <path d=\"M0 0h24v24H0V0z\" fill=\"none\"/>\n",
              "    <path d=\"M18.56 5.44l.94 2.06.94-2.06 2.06-.94-2.06-.94-.94-2.06-.94 2.06-2.06.94zm-11 1L8.5 8.5l.94-2.06 2.06-.94-2.06-.94L8.5 2.5l-.94 2.06-2.06.94zm10 10l.94 2.06.94-2.06 2.06-.94-2.06-.94-.94-2.06-.94 2.06-2.06.94z\"/><path d=\"M17.41 7.96l-1.37-1.37c-.4-.4-.92-.59-1.43-.59-.52 0-1.04.2-1.43.59L10.3 9.45l-7.72 7.72c-.78.78-.78 2.05 0 2.83L4 21.41c.39.39.9.59 1.41.59.51 0 1.02-.2 1.41-.59l7.78-7.78 2.81-2.81c.8-.78.8-2.07 0-2.86zM5.41 20L4 18.59l7.72-7.72 1.47 1.35L5.41 20z\"/>\n",
              "  </svg>\n",
              "      </button>\n",
              "      \n",
              "  <style>\n",
              "    .colab-df-container {\n",
              "      display:flex;\n",
              "      flex-wrap:wrap;\n",
              "      gap: 12px;\n",
              "    }\n",
              "\n",
              "    .colab-df-convert {\n",
              "      background-color: #E8F0FE;\n",
              "      border: none;\n",
              "      border-radius: 50%;\n",
              "      cursor: pointer;\n",
              "      display: none;\n",
              "      fill: #1967D2;\n",
              "      height: 32px;\n",
              "      padding: 0 0 0 0;\n",
              "      width: 32px;\n",
              "    }\n",
              "\n",
              "    .colab-df-convert:hover {\n",
              "      background-color: #E2EBFA;\n",
              "      box-shadow: 0px 1px 2px rgba(60, 64, 67, 0.3), 0px 1px 3px 1px rgba(60, 64, 67, 0.15);\n",
              "      fill: #174EA6;\n",
              "    }\n",
              "\n",
              "    [theme=dark] .colab-df-convert {\n",
              "      background-color: #3B4455;\n",
              "      fill: #D2E3FC;\n",
              "    }\n",
              "\n",
              "    [theme=dark] .colab-df-convert:hover {\n",
              "      background-color: #434B5C;\n",
              "      box-shadow: 0px 1px 3px 1px rgba(0, 0, 0, 0.15);\n",
              "      filter: drop-shadow(0px 1px 2px rgba(0, 0, 0, 0.3));\n",
              "      fill: #FFFFFF;\n",
              "    }\n",
              "  </style>\n",
              "\n",
              "      <script>\n",
              "        const buttonEl =\n",
              "          document.querySelector('#df-0be9e43f-c0b4-45e8-9c88-cfce86e5e8c0 button.colab-df-convert');\n",
              "        buttonEl.style.display =\n",
              "          google.colab.kernel.accessAllowed ? 'block' : 'none';\n",
              "\n",
              "        async function convertToInteractive(key) {\n",
              "          const element = document.querySelector('#df-0be9e43f-c0b4-45e8-9c88-cfce86e5e8c0');\n",
              "          const dataTable =\n",
              "            await google.colab.kernel.invokeFunction('convertToInteractive',\n",
              "                                                     [key], {});\n",
              "          if (!dataTable) return;\n",
              "\n",
              "          const docLinkHtml = 'Like what you see? Visit the ' +\n",
              "            '<a target=\"_blank\" href=https://colab.research.google.com/notebooks/data_table.ipynb>data table notebook</a>'\n",
              "            + ' to learn more about interactive tables.';\n",
              "          element.innerHTML = '';\n",
              "          dataTable['output_type'] = 'display_data';\n",
              "          await google.colab.output.renderOutput(dataTable, element);\n",
              "          const docLink = document.createElement('div');\n",
              "          docLink.innerHTML = docLinkHtml;\n",
              "          element.appendChild(docLink);\n",
              "        }\n",
              "      </script>\n",
              "    </div>\n",
              "  </div>\n",
              "  "
            ],
            "text/plain": [
              "       Power(watts)  Distance(metres)  ...  Hill slope(%)  Temperature(C)\n",
              "count   3850.000000       3850.000000  ...    3850.000000     3850.000000\n",
              "mean     234.054366      12492.383074  ...       4.422299       22.516403\n",
              "std       91.952173       8154.495273  ...       6.574578        2.132864\n",
              "min        0.000000         16.093000  ...     -12.740000       18.889000\n",
              "25%      168.800000       6827.625000  ...      -0.830000       21.111000\n",
              "50%      242.805000      10171.000000  ...       3.710000       22.778000\n",
              "75%      294.712500      17860.000000  ...      10.250000       24.444000\n",
              "max      525.270000      30594.000000  ...      19.030000       26.111000\n",
              "\n",
              "[8 rows x 9 columns]"
            ]
          },
          "metadata": {},
          "execution_count": 48
        }
      ]
    },
    {
      "cell_type": "code",
      "source": [
        "Power = newdf.loc[:,['Power(watts)']].plot.hist(color = 'red', edgecolor = 'black')    #To select all rows and a select columns we use .loc accessor with square bracket.\n",
        "Distance = newdf.loc[:,['Distance(metres)']].plot.hist(color = 'green', edgecolor = 'black')\n",
        "Heartrate = newdf.loc[:,['Heartrate(BPM)']].plot.hist(color = 'Blue', edgecolor = 'black')\n",
        "Speed = newdf.loc[:,['Speed(m/s)']].plot.hist(color = 'HotPink', edgecolor = 'black')\n",
        "WindSpeed = newdf.loc[:,['WindSpeed (m/s)']].plot.hist(color = 'MediumVioletRed', edgecolor = 'black')\n",
        "Cadaence = newdf.loc[:,['Cadaence(revs/s)']].plot.hist(color = 'Coral', edgecolor = 'black')\n",
        "Elevation = newdf.loc[:,['Elevation(meters)']].plot.hist(color = 'Orange', edgecolor = 'black')\n",
        "Hill_slope = newdf.loc[:,['Hill slope(%)']].plot.hist(color = 'Yellow', edgecolor = 'black')\n",
        "Temperature = newdf.loc[:,['Temperature(C)']].plot.hist(color = 'Violet', edgecolor = 'black')"
      ],
      "metadata": {
        "id": "dD-Gqw8R9vQH",
        "colab": {
          "base_uri": "https://localhost:8080/",
          "height": 1000
        },
        "outputId": "0e00148f-24fa-42fb-978b-50629d9858b8"
      },
      "execution_count": null,
      "outputs": [
        {
          "output_type": "display_data",
          "data": {
            "image/png": "[encoded data removed]",
            "text/plain": [
              "<Figure size 432x288 with 1 Axes>"
            ]
          },
          "metadata": {
            "needs_background": "light"
          }
        },
        {
          "output_type": "display_data",
          "data": {
            "image/png": "[encoded data removed]",
            "text/plain": [
              "<Figure size 432x288 with 1 Axes>"
            ]
          },
          "metadata": {
            "needs_background": "light"
          }
        },
        {
          "output_type": "display_data",
          "data": {
            "image/png": "[encoded data removed]",
            "text/plain": [
              "<Figure size 432x288 with 1 Axes>"
            ]
          },
          "metadata": {
            "needs_background": "light"
          }
        },
        {
          "output_type": "display_data",
          "data": {
            "image/png": "[encoded data removed]",
            "text/plain": [
              "<Figure size 432x288 with 1 Axes>"
            ]
          },
          "metadata": {
            "needs_background": "light"
          }
        },
        {
          "output_type": "display_data",
          "data": {
            "image/png": "[encoded data removed]",
            "text/plain": [
              "<Figure size 432x288 with 1 Axes>"
            ]
          },
          "metadata": {
            "needs_background": "light"
          }
        },
        {
          "output_type": "display_data",
          "data": {
            "image/png": "[encoded data removed]",
            "text/plain": [
              "<Figure size 432x288 with 1 Axes>"
            ]
          },
          "metadata": {
            "needs_background": "light"
          }
        },
        {
          "output_type": "display_data",
          "data": {
            "image/png": "[encoded data removed]",
            "text/plain": [
              "<Figure size 432x288 with 1 Axes>"
            ]
          },
          "metadata": {
            "needs_background": "light"
          }
        },
        {
          "output_type": "display_data",
          "data": {
            "image/png": "[encoded data removed]",
            "text/plain": [
              "<Figure size 432x288 with 1 Axes>"
            ]
          },
          "metadata": {
            "needs_background": "light"
          }
        },
        {
          "output_type": "display_data",
          "data": {
            "image/png": "[encoded data removed]",
            "text/plain": [
              "<Figure size 432x288 with 1 Axes>"
            ]
          },
          "metadata": {
            "needs_background": "light"
          }
        }
      ]
    },
    {
      "cell_type": "code",
      "source": [
        "cluster = ['C','F','A','G','E','B','I', 'H','D']\n",
        "plt.pie(dataframe2['Cluster'].value_counts(normalize = True),labels = cluster,autopct='%1.1f%%')"
      ],
      "metadata": {
        "id": "PtVoZ5ai_QXz",
        "colab": {
          "base_uri": "https://localhost:8080/",
          "height": 716
        },
        "outputId": "412fbab8-8ccc-48c8-86fa-913fcbc76387"
      },
      "execution_count": null,
      "outputs": [
        {
          "output_type": "execute_result",
          "data": {
            "text/plain": [
              "([<matplotlib.patches.Wedge at 0x7f2ed7d117d0>,\n",
              "  <matplotlib.patches.Wedge at 0x7f2ed7d29050>,\n",
              "  <matplotlib.patches.Wedge at 0x7f2ed7d493d0>,\n",
              "  <matplotlib.patches.Wedge at 0x7f2ed7d49b50>,\n",
              "  <matplotlib.patches.Wedge at 0x7f2ed7c8c210>,\n",
              "  <matplotlib.patches.Wedge at 0x7f2ed7c8ca90>,\n",
              "  <matplotlib.patches.Wedge at 0x7f2ed7c97090>,\n",
              "  <matplotlib.patches.Wedge at 0x7f2ed7c97890>,\n",
              "  <matplotlib.patches.Wedge at 0x7f2ed7e0bbd0>],\n",
              " [Text(0.6032899554997707, 0.919804995416466, 'C'),\n",
              "  Text(-0.7880794190495655, 0.7674182883346603, 'F'),\n",
              "  Text(-1.0996015127846144, 0.029605963618626528, 'A'),\n",
              "  Text(-0.8688599651313801, -0.6745979254281006, 'G'),\n",
              "  Text(-0.34065962031869707, -1.045921136168651, 'E'),\n",
              "  Text(0.22171155677929608, -1.0774247006591695, 'B'),\n",
              "  Text(0.688967297866954, -0.8575103862169298, 'I'),\n",
              "  Text(0.9819576009063895, -0.4957411320660895, 'H'),\n",
              "  Text(1.090568154242734, -0.14373969859296606, 'D')],\n",
              " [Text(0.3290672484544203, 0.5017118156817086, '31.5%'),\n",
              "  Text(-0.4298615012997629, 0.4185917936370874, '12.4%'),\n",
              "  Text(-0.5997826433370623, 0.01614870742834174, '11.3%'),\n",
              "  Text(-0.4739236173443891, -0.3679625047789639, '10.5%'),\n",
              "  Text(-0.18581433835565295, -0.5705024379101731, '8.4%'),\n",
              "  Text(0.12093357642507058, -0.587686200359547, '8.0%'),\n",
              "  Text(0.37580034429106574, -0.4677329379365071, '7.0%'),\n",
              "  Text(0.5356132368580305, -0.2704042538542306, '6.5%'),\n",
              "  Text(0.594855356859673, -0.07840347195979967, '4.2%')])"
            ]
          },
          "metadata": {},
          "execution_count": 50
        },
        {
          "output_type": "display_data",
          "data": {
            "image/png": "[encoded data removed]",
            "text/plain": [
              "<Figure size 432x288 with 1 Axes>"
            ]
          },
          "metadata": {}
        }
      ]
    },
    {
      "cell_type": "markdown",
      "source": [
        "**Question3**"
      ],
      "metadata": {
        "id": "xLnNKm3CgEG4"
      }
    },
    {
      "cell_type": "code",
      "source": [
        "from sklearn.cluster import KMeans\n",
        "\n",
        "plt.scatter(dataframe['Power(watts)'],dataframe['Distance(metres)'])\n",
        "plt.xlim(-180,180)\n",
        "plt.ylim(-90,90)\n",
        "plt.show()\n",
        "kmeans = KMeans(n_clusters=9)\n",
        "kmeans.fit(dataframe)\n",
        "predict_kmeans = kmeans.predict(dataframe)\n",
        "print(predict_kmeans.shape)\n",
        "y_kmeans = kmeans.cluster_centers_\n",
        "print(y_kmeans)"
      ],
      "metadata": {
        "colab": {
          "base_uri": "https://localhost:8080/",
          "height": 751
        },
        "id": "u4WDge6-HC0e",
        "outputId": "6d2d3e55-c7c8-4cc0-de75-2e0d18f5814e"
      },
      "execution_count": null,
      "outputs": [
        {
          "output_type": "display_data",
          "data": {
            "image/png": "[encoded data removed]",
            "text/plain": [
              "<Figure size 432x288 with 1 Axes>"
            ]
          },
          "metadata": {
            "needs_background": "light"
          }
        },
        {
          "output_type": "stream",
          "name": "stdout",
          "text": [
            "(3850,)\n",
            "[[ 2.01927059e+02  1.73266654e+04  1.40448529e+02  9.05367537e+00\n",
            "   9.78421618e+00  1.41372375e+00  5.27100147e+02 -3.49080882e-01\n",
            "   1.89502132e+01]\n",
            " [ 2.74973663e+02  8.22061468e+03  1.66175583e+02  3.34715391e+00\n",
            "   2.61802716e+00  1.02837246e+00  3.05403320e+02  1.07224143e+01\n",
            "   2.40228176e+01]\n",
            " [ 2.74423849e+02  2.58121429e+04  1.26424603e+02  1.21607139e+01\n",
            "   1.18917571e+01  1.40839885e+00  1.16393722e+02 -3.41539683e+00\n",
            "   2.16228730e+01]\n",
            " [ 1.69256266e+02  1.65247802e+03  1.12921162e+02  7.07480498e+00\n",
            "   6.68332531e+00  1.25764108e+00  6.36645851e+01  8.52385892e-01\n",
            "   2.52110249e+01]\n",
            " [ 2.27654207e+02  2.89644096e+04  1.40638376e+02  8.80254354e+00\n",
            "   7.82318266e+00  1.27601653e+00  6.81244649e+01  9.12177122e-02\n",
            "   2.18062878e+01]\n",
            " [ 2.34987667e+02  5.75202180e+03  1.34263862e+02  5.99177189e+00\n",
            "   4.83964436e+00  1.21692157e+00  1.05777019e+02  5.88577438e+00\n",
            "   2.46959579e+01]\n",
            " [ 2.41517107e+02  2.18984187e+04  1.36716253e+02  7.81790083e+00\n",
            "   7.99116309e+00  1.14265350e+00  3.16709366e+02  2.23909091e+00\n",
            "   2.03397025e+01]\n",
            " [ 2.57537804e+02  1.06773678e+04  1.69836538e+02  3.91511282e+00\n",
            "   1.72804647e+00  1.08263804e+00  5.29636875e+02  9.01841346e+00\n",
            "   2.18901603e+01]\n",
            " [ 1.85706230e+02  1.38304594e+04  1.36293413e+02  8.17143772e+00\n",
            "   7.78624910e+00  1.28832449e+00  6.13401587e+02  6.30928144e-01\n",
            "   1.96171228e+01]]\n"
          ]
        }
      ]
    },
    {
      "cell_type": "code",
      "source": [
        "import scipy.cluster.hierarchy as sch\n",
        "from sklearn.cluster import AgglomerativeClustering\n",
        "model = AgglomerativeClustering(n_clusters=9, affinity='euclidean')\n",
        "model.fit(dataframe)\n",
        "\n",
        "dendrogram = sch.dendrogram(sch.linkage(dataframe, method  = \"ward\"))\n",
        "\n",
        "plt.title('Dendrogram')\n",
        "plt.show()"
      ],
      "metadata": {
        "colab": {
          "base_uri": "https://localhost:8080/",
          "height": 284
        },
        "id": "VGOT5oPrd7zP",
        "outputId": "639bae2f-a436-4db7-a8b5-fc2e36adb7e3"
      },
      "execution_count": null,
      "outputs": [
        {
          "output_type": "display_data",
          "data": {
            "image/png": "[encoded data removed]",
            "text/plain": [
              "<Figure size 432x288 with 1 Axes>"
            ]
          },
          "metadata": {
            "needs_background": "light"
          }
        }
      ]
    },
    {
      "cell_type": "code",
      "source": [
        "pip install bcubed"
      ],
      "metadata": {
        "colab": {
          "base_uri": "https://localhost:8080/"
        },
        "id": "Ar4H1U2wRbOe",
        "outputId": "0693fca9-1ae2-4250-adec-7be6b80bba94"
      },
      "execution_count": null,
      "outputs": [
        {
          "output_type": "stream",
          "name": "stdout",
          "text": [
            "Requirement already satisfied: bcubed in /usr/local/lib/python3.7/dist-packages (1.5)\n",
            "Requirement already satisfied: numpy in /usr/local/lib/python3.7/dist-packages (from bcubed) (1.19.5)\n"
          ]
        }
      ]
    },
    {
      "cell_type": "code",
      "source": [
        "#kmean bcubed validation\n",
        "import bcubed\n",
        "cdict = { i:set([dataframe2.loc[:,'Cluster'][i]])  for i in range(3850)}\n",
        "ldict = { i:set([predict_kmeans[i]])  for i in range(3850)}\n",
        "precision = bcubed.precision(cdict, ldict)\n",
        "recall = bcubed.recall(cdict, ldict)\n",
        "fscore = bcubed.fscore(precision, recall)\n",
        "\n",
        "print(precision, recall, fscore )\n"
      ],
      "metadata": {
        "id": "LGaceJH4PsdG",
        "colab": {
          "base_uri": "https://localhost:8080/"
        },
        "outputId": "1d9dd1ef-9fb9-4f76-e77c-447fdcd5f31b"
      },
      "execution_count": null,
      "outputs": [
        {
          "output_type": "stream",
          "name": "stdout",
          "text": [
            "0.43029148031960085 0.570767159967966 0.4906730461062298\n"
          ]
        }
      ]
    },
    {
      "cell_type": "code",
      "source": [
        "#hierarchical  bcubed validation\n",
        "import bcubed\n",
        "cdict = { i:set([dataframe2.loc[:,'Cluster'][i]])  for i in range(3850)}\n",
        "ldict = { i:set([dendrogram[i]])  for i in range(5)}\n",
        "\n",
        "precision = bcubed.precision(cdict, ldict)\n",
        "recall = bcubed.recall(cdict, ldict)\n",
        "fscore = bcubed.fscore(precision, recall)\n",
        "\n",
        "print(precision, recall, fscore )"
      ],
      "metadata": {
        "id": "9WeQEqjfZaK5"
      },
      "execution_count": null,
      "outputs": []
    },
    {
      "cell_type": "markdown",
      "source": [
        "**Question4**"
      ],
      "metadata": {
        "id": "zlwNMIl3f-nX"
      }
    },
    {
      "cell_type": "code",
      "source": [
        "from sklearn.decomposition import PCA\n",
        "pca = PCA(n_components=2)\n",
        "pca.fit(dataframe)\n",
        "x_pca = pca.transform(dataframe)\n",
        "x_pca = pd.DataFrame(x_pca)\n",
        "x_pca.columns = ['column_0','column_1']\n",
        "column_0 = x_pca.loc[:,['column_0']].plot.hist(color = 'green', edgecolor = 'black')\n",
        "column_1 = x_pca.loc[:,['column_1']].plot.hist(color = 'Blue', edgecolor = 'black')\n",
        "x_pca\n",
        "x=x_pca.to_numpy()"
      ],
      "metadata": {
        "colab": {
          "base_uri": "https://localhost:8080/",
          "height": 405
        },
        "id": "JkYCnuFVf9nh",
        "outputId": "ee81fedd-db0f-423b-9226-b27023617c43"
      },
      "execution_count": null,
      "outputs": [
        {
          "output_type": "display_data",
          "data": {
            "image/png": "[encoded data removed]",
            "text/plain": [
              "<Figure size 360x216 with 1 Axes>"
            ]
          },
          "metadata": {
            "needs_background": "light"
          }
        },
        {
          "output_type": "display_data",
          "data": {
            "image/png": "[encoded data removed]",
            "text/plain": [
              "<Figure size 360x216 with 1 Axes>"
            ]
          },
          "metadata": {
            "needs_background": "light"
          }
        }
      ]
    },
    {
      "cell_type": "code",
      "source": [
        "from sklearn.cluster import DBSCAN\n",
        "from sklearn.neighbors import NearestNeighbors # importing the library\n",
        "neighb = NearestNeighbors(n_neighbors=2) # creating an object of the NearestNeighbors class\n",
        "nbrs=neighb.fit(x_pca) # fitting the data to the object\n",
        "distances,indices=nbrs.kneighbors(x_pca) # finding the nearest neighbours\n",
        "# Sort and plot the distances results\n",
        "distances = np.sort(distances, axis = 0) # sorting the distances\n",
        "distances = distances[:, 1] # taking the second column of the sorted distances\n",
        "plt.rcParams['figure.figsize'] = (5,3) # setting the figure size\n",
        "plt.plot(distances) # plotting the distances\n",
        "plt.show() # showing the plot\n",
        "\n",
        "# #EPS = 20 chon enhena onja tamom mishe\n",
        "# cluster the data into five clusters\n",
        "dbscan = DBSCAN(eps = 20, min_samples = 4).fit(x_pca) # fitting the model\n",
        "labels = dbscan.labels_ # getting the labels\n",
        "labels\n",
        " # Plot the clusters\n",
        "plt.scatter(x[:, 0], x[:,1], c = labels, cmap= \"plasma\") # plotting the clusters\n",
        "plt.show() # showing the plot"
      ],
      "metadata": {
        "colab": {
          "base_uri": "https://localhost:8080/",
          "height": 405
        },
        "id": "mzectaCQoXJX",
        "outputId": "e4cf16bd-7481-48c4-e9d1-65240cd9c8cd"
      },
      "execution_count": null,
      "outputs": [
        {
          "output_type": "display_data",
          "data": {
            "image/png": "[encoded data removed]",
            "text/plain": [
              "<Figure size 360x216 with 1 Axes>"
            ]
          },
          "metadata": {
            "needs_background": "light"
          }
        },
        {
          "output_type": "display_data",
          "data": {
            "image/png": "[encoded data removed]",
            "text/plain": [
              "<Figure size 360x216 with 1 Axes>"
            ]
          },
          "metadata": {
            "needs_background": "light"
          }
        }
      ]
    }
  ],
  "metadata": {
    "colab": {
      "provenance": [],
      "include_colab_link": true
    },
    "kernelspec": {
      "display_name": "Python 3",
      "name": "python3"
    },
    "language_info": {
      "name": "python"
    }
  },
  "nbformat": 4,
  "nbformat_minor": 0
}